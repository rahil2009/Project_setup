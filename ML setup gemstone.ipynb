{
 "cells": [
  {
   "cell_type": "markdown",
   "id": "87e15ca1",
   "metadata": {},
   "source": [
    "if not inside base\n",
    "conda activate base "
   ]
  },
  {
   "cell_type": "markdown",
   "id": "d282d5ad",
   "metadata": {},
   "source": [
    "to get inside vnv environment\n",
    "conda create -p vnv python==3.9"
   ]
  },
  {
   "cell_type": "markdown",
   "id": "7a58da32",
   "metadata": {},
   "source": [
    "conda activate venv/"
   ]
  },
  {
   "cell_type": "markdown",
   "id": "89e1cb11",
   "metadata": {},
   "source": [
    "pip install -r requirements.txt"
   ]
  },
  {
   "cell_type": "markdown",
   "id": "dcc9215a",
   "metadata": {},
   "source": [
    "### Install all necessary libraries using requirement.txt\n",
    "pip install -r requirements.txt"
   ]
  },
  {
   "cell_type": "markdown",
   "id": "3cda95c1",
   "metadata": {},
   "source": [
    "why setup.py is used?\n",
    "To convert the project to package ,so that if you want to \n",
    "install it using pypy,at that we can use setup.py"
   ]
  },
  {
   "cell_type": "markdown",
   "id": "d0e56fc6",
   "metadata": {},
   "source": [
    "setup(\n",
    "        name= 'RegressorProject ' ,\n",
    "        version='0.0.1'\n",
    "        author= 'Rahil',\n",
    "        author_email='saiyed.rahil2009.sr@gmail.com'\n",
    "        install_requires=[ ' numpy' , ' pandas ' ] ,\n",
    "        packages-find _ packages ( )\n",
    ")"
   ]
  },
  {
   "cell_type": "markdown",
   "id": "94dd0a0e",
   "metadata": {},
   "source": [
    "we will give chance to our requirements to build our packages\n",
    "using -e .\n",
    "so basically when our requirements are getting install \n",
    "and when it see -e . ,it will trigger system.py"
   ]
  },
  {
   "cell_type": "markdown",
   "id": "856fef27",
   "metadata": {},
   "source": [
    "create src folder \n",
    "and add __init__.py\n",
    "this will be a source as a package which can be imported \n",
    "i may want to import some of the func of this files to somewhere else"
   ]
  },
  {
   "cell_type": "markdown",
   "id": "36020dda",
   "metadata": {},
   "source": [
    "use of utils.py \n",
    "to create a generic functionaliy for entire project"
   ]
  },
  {
   "cell_type": "markdown",
   "id": "a71fc618",
   "metadata": {},
   "source": [
    "it is required to make __init__.py in every folder"
   ]
  },
  {
   "cell_type": "markdown",
   "id": "8d37680d",
   "metadata": {},
   "source": [
    "training pipeline is used for continuous training"
   ]
  },
  {
   "cell_type": "markdown",
   "id": "a61d7363",
   "metadata": {},
   "source": [
    "git init\n",
    "to initialize github "
   ]
  },
  {
   "cell_type": "markdown",
   "id": "42973c44",
   "metadata": {},
   "source": [
    "git add. \n",
    "to upload all files to github we need to use this command"
   ]
  },
  {
   "cell_type": "markdown",
   "id": "1055e997",
   "metadata": {},
   "source": []
  },
  {
   "cell_type": "markdown",
   "id": "874d18ea",
   "metadata": {},
   "source": []
  },
  {
   "cell_type": "markdown",
   "id": "941385be",
   "metadata": {},
   "source": []
  },
  {
   "cell_type": "markdown",
   "id": "bada89a8",
   "metadata": {},
   "source": []
  },
  {
   "cell_type": "markdown",
   "id": "3e2658a4",
   "metadata": {},
   "source": []
  },
  {
   "cell_type": "markdown",
   "id": "5f3b81ce",
   "metadata": {},
   "source": []
  },
  {
   "cell_type": "markdown",
   "id": "1a76c80b",
   "metadata": {},
   "source": []
  },
  {
   "cell_type": "markdown",
   "id": "e7f4ba65",
   "metadata": {},
   "source": []
  },
  {
   "cell_type": "markdown",
   "id": "89fe803f",
   "metadata": {},
   "source": []
  },
  {
   "cell_type": "markdown",
   "id": "52fbdb2a",
   "metadata": {},
   "source": []
  },
  {
   "cell_type": "markdown",
   "id": "246300c5",
   "metadata": {},
   "source": []
  }
 ],
 "metadata": {
  "kernelspec": {
   "display_name": "Python 3 (ipykernel)",
   "language": "python",
   "name": "python3"
  },
  "language_info": {
   "codemirror_mode": {
    "name": "ipython",
    "version": 3
   },
   "file_extension": ".py",
   "mimetype": "text/x-python",
   "name": "python",
   "nbconvert_exporter": "python",
   "pygments_lexer": "ipython3",
   "version": "3.9.12"
  }
 },
 "nbformat": 4,
 "nbformat_minor": 5
}
